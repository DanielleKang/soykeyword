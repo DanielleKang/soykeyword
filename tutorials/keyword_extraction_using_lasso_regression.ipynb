{
 "cells": [
  {
   "cell_type": "markdown",
   "metadata": {},
   "source": [
    "keyword_extraction_using_proportion_ratio.ipynb 파일에서 만들어둔 sparse matrix인 x와 {word:index}인 dictionary type word2index, list of str type인 index2word를 pickle로부터 로딩했습니다. "
   ]
  },
  {
   "cell_type": "code",
   "execution_count": 1,
   "metadata": {
    "collapsed": true
   },
   "outputs": [],
   "source": [
    "import pickle\n",
    "\n",
    "with open('params', 'rb') as f:\n",
    "    params = pickle.load(f)\n",
    "    x = params['x']\n",
    "    index2word = params['index2word']\n",
    "    word2index = params['word2index']"
   ]
  },
  {
   "cell_type": "code",
   "execution_count": 2,
   "metadata": {
    "collapsed": false
   },
   "outputs": [],
   "source": [
    "import sys\n",
    "sys.path.append('../')\n",
    "import soykeyword"
   ]
  },
  {
   "cell_type": "markdown",
   "metadata": {},
   "source": [
    "Lasso Logistic regression을 이용한 키워드 추출 방법은 proportion ratio 를 이용하는 방법과 그 개념은 비슷합니다. \n",
    "\n",
    "Proportion ratio 방법에서 score가 1.0에 가깝다는 의미는 reference documents 보다 target documents에서 등장하는 비율이 높다는 의미이고, 이는 target / reference documents를 구분하는 질좋은 features라는 의미이기도 합니다. \n",
    "\n",
    "LassoKeywordExtractor는 Lasso Logistic regression을 이용하여 이런 features를 직접적으로 선택하는 것입니다. 이를 위해 scikit-learn의 Logistic Regression을 이용하였습니다. 이 때 parameters로 입력해야 하는 C는 costs라는 list of number로 입력됩니다. 키워드의 후보들은 모두 min_tf, min_df로 필터링이 됩니다. \n",
    "\n",
    "LassoKeywordExtractor는 텍스트 형식의 데이터는 지원하지 않습니다. Sparse matrix 형식에만 지원하며, train 단계에서 index2word를 입력하지 않으면 <키워드 아이디, 빈도수, Logistic regression coefficient> 형식의 namedtuple인 KeywordScore로 출력됩니다. \n",
    "\n",
    "minimum_number_of_keywords는 L1 regularization cost를 조금씩 낮춰가면서 선택되는 최소한의 키워드의 개수가 minimum_number_of_keywords 이상이 되도록 하는 최초의 keywords를 return하도록 하는 parameter입니다. "
   ]
  },
  {
   "cell_type": "code",
   "execution_count": 3,
   "metadata": {
    "collapsed": false
   },
   "outputs": [
    {
     "name": "stdout",
     "output_type": "stream",
     "text": [
      "28 keywords extracted from 0.100 cost\n",
      "63 keywords extracted from 1.000 cost\n"
     ]
    },
    {
     "data": {
      "text/plain": [
       "[KeywordScore(word=2308, frequency=86, coefficient=3.8101342096180626),\n",
       " KeywordScore(word=4701, frequency=40, coefficient=3.2615992235172864),\n",
       " KeywordScore(word=4441, frequency=90, coefficient=2.4439388545593541),\n",
       " KeywordScore(word=5880, frequency=221, coefficient=1.7592672175198703),\n",
       " KeywordScore(word=8215, frequency=105, coefficient=1.4943386150403641),\n",
       " KeywordScore(word=4343, frequency=46, coefficient=1.4180686410546366),\n",
       " KeywordScore(word=2913, frequency=119, coefficient=1.3447427704258959),\n",
       " KeywordScore(word=3527, frequency=195, coefficient=1.1863913809567048),\n",
       " KeywordScore(word=3261, frequency=216, coefficient=1.1689093834338116),\n",
       " KeywordScore(word=6208, frequency=77, coefficient=1.1161946233047406)]"
      ]
     },
     "execution_count": 3,
     "metadata": {},
     "output_type": "execute_result"
    }
   ],
   "source": [
    "from soykeyword.lasso import LassoKeywordExtractor\n",
    "\n",
    "lassobased_extractor = LassoKeywordExtractor(costs=[500, 200, 100, 50, 10, 5, 1, 0.1],\n",
    "                                             min_tf=20, \n",
    "                                             min_df=10)\n",
    "\n",
    "lassobased_extractor.train(x)\n",
    "keywords = lassobased_extractor.extract_from_word(5537, minimum_number_of_keywords=30)\n",
    "keywords[:10]"
   ]
  },
  {
   "cell_type": "markdown",
   "metadata": {},
   "source": [
    "index2word를 x와 함께 train()에 넣는다면 키워드 추출 결과는 모두 word index가 str로 바뀌어서 입력됩니다. 만약 word index가 index2word의 boundary를 넘어가는 경우라면 Unk101과 같이 Unk%d의 형식으로 출력됩니다. "
   ]
  },
  {
   "cell_type": "code",
   "execution_count": null,
   "metadata": {
    "collapsed": true
   },
   "outputs": [],
   "source": [
    "from soykeyword.lasso import LassoKeywordExtractor\n",
    "\n",
    "lassobased_extractor = LassoKeywordExtractor(costs=[500, 200, 100, 50, 10, 5, 1, 0.1],\n",
    "                                             min_tf=20, \n",
    "                                             min_df=10)\n",
    "\n",
    "lassobased_extractor.train(x, index2word)"
   ]
  },
  {
   "cell_type": "markdown",
   "metadata": {},
   "source": [
    "index2word가 train에 입력되면 '아이오아이'가 포함된 문서의 index를 가져올 수도 있습니다. "
   ]
  },
  {
   "cell_type": "code",
   "execution_count": 5,
   "metadata": {
    "collapsed": false
   },
   "outputs": [],
   "source": [
    "documents = lassobased_extractor.get_document_index('아이오아이')"
   ]
  },
  {
   "cell_type": "markdown",
   "metadata": {},
   "source": [
    "extract_from_docs(documents)는 documents를 positive set으로, documents가 아닌 모든 문서를 negative set으로 선택한 뒤, 이 둘을 구분하는 L1 Logistic regression을 학습합니다. 이 때에는 '아이오아이'라는 단어가 포함된 문서와 포함되지 않는 문서를 구분하는 classifier를 학습하였기 때문에 '아이오아이'가 최상위 키워드로 선택됩니다. 하지만 이는 정답을 알고 문제를 푸는 격입니다. extract_from_docs는 이 경우보다는 본인이 positive set으로 선택하고 싶은 문서 집합이 명확히 있을 때 이용하는 방법입니다.  "
   ]
  },
  {
   "cell_type": "code",
   "execution_count": 6,
   "metadata": {
    "collapsed": false
   },
   "outputs": [
    {
     "name": "stdout",
     "output_type": "stream",
     "text": [
      "4 keywords extracted from 0.100 cost\n",
      "4 keywords extracted from 1.000 cost\n",
      "4 keywords extracted from 5.000 cost\n",
      "5 keywords extracted from 10.000 cost\n",
      "6 keywords extracted from 50.000 cost\n",
      "20 keywords extracted from 100.000 cost\n",
      "31 keywords extracted from 200.000 cost\n"
     ]
    },
    {
     "data": {
      "text/plain": [
       "[KeywordScore(word='아이오아이', frequency=270, coefficient=17.850189941320671),\n",
       " KeywordScore(word='엠카운트다운', frequency=221, coefficient=1.200759338786378),\n",
       " KeywordScore(word='뮤직', frequency=195, coefficient=1.081777863860977),\n",
       " KeywordScore(word='일산동구', frequency=36, coefficient=0.98636875892070186),\n",
       " KeywordScore(word='키미', frequency=297, coefficient=0.70877507721215616),\n",
       " KeywordScore(word='챔피언', frequency=105, coefficient=0.51940928356916138),\n",
       " KeywordScore(word='강렬', frequency=352, coefficient=0.36972563098092176),\n",
       " KeywordScore(word='컴백', frequency=536, coefficient=0.30677481146665397),\n",
       " KeywordScore(word='화려', frequency=518, coefficient=0.26764304959838653),\n",
       " KeywordScore(word='수출', frequency=735, coefficient=0.23882691530127598),\n",
       " KeywordScore(word='걸그룹', frequency=1060, coefficient=0.20972098801573957),\n",
       " KeywordScore(word='방영', frequency=208, coefficient=0.19694219657704334),\n",
       " KeywordScore(word='프로듀스101', frequency=96, coefficient=0.17074232136595247),\n",
       " KeywordScore(word='카메라', frequency=439, coefficient=0.16977107554253243),\n",
       " KeywordScore(word='무대', frequency=1332, coefficient=0.1577347884340497),\n",
       " KeywordScore(word='세븐', frequency=76, coefficient=0.15618936576644232),\n",
       " KeywordScore(word='세련', frequency=192, coefficient=0.15307105242704394),\n",
       " KeywordScore(word='1위', frequency=1357, coefficient=0.12692306596721531),\n",
       " KeywordScore(word='337', frequency=112, coefficient=0.1107512049028205),\n",
       " KeywordScore(word='신용재', frequency=82, coefficient=0.097449980426219773),\n",
       " KeywordScore(word='음반', frequency=204, coefficient=0.087593978608214537),\n",
       " KeywordScore(word='순위', frequency=259, coefficient=0.078378996881436985),\n",
       " KeywordScore(word='구르미', frequency=549, coefficient=0.076116461806437108),\n",
       " KeywordScore(word='해외', frequency=1612, coefficient=0.067737715013702834),\n",
       " KeywordScore(word='디자인', frequency=980, coefficient=0.061997214756036492),\n",
       " KeywordScore(word='수준', frequency=2240, coefficient=0.050563464663653218),\n",
       " KeywordScore(word='본명', frequency=105, coefficient=0.047504642810354415),\n",
       " KeywordScore(word='블랙핑크', frequency=190, coefficient=0.043710896927576681),\n",
       " KeywordScore(word='보컬', frequency=155, coefficient=0.029900986119675121),\n",
       " KeywordScore(word='불독', frequency=1212, coefficient=0.027561273905391745),\n",
       " KeywordScore(word='방탄소년단', frequency=638, coefficient=0.024916126378574391)]"
      ]
     },
     "execution_count": 6,
     "metadata": {},
     "output_type": "execute_result"
    }
   ],
   "source": [
    "keywords = lassobased_extractor.extract_from_docs(documents, minimum_number_of_keywords=30)\n",
    "keywords"
   ]
  },
  {
   "cell_type": "markdown",
   "metadata": {},
   "source": [
    "extract_from_word(aspect_word)는 aspect_word가 들어간 문서 집합을 positive set으로, 그렇지 않은 문서 집합을 negative set으로 선택하여 이를 구분하는 classifier를 학습하는 것입니다. 이 때, positive set에서 aspect_word를 제외합니다. 이렇게 할 경우, aspect_word 때문에 잘못된 hyperplane이 선택되는 문제를 해결할 수 있습니다. \n",
    "\n",
    "2016-10-20에는 '아이오아이'가 마지막 곡인 '너무너무너무'곡으로 활동하던 시절입니다. 그렇기 때문에 '너무너무너무'와 '엠카운트다운'과 같은 단어가 키워드로 선택되었음을 볼 수 있습니다. "
   ]
  },
  {
   "cell_type": "code",
   "execution_count": 7,
   "metadata": {
    "collapsed": false
   },
   "outputs": [
    {
     "name": "stdout",
     "output_type": "stream",
     "text": [
      "28 keywords extracted from 0.100 cost\n",
      "63 keywords extracted from 1.000 cost\n"
     ]
    },
    {
     "data": {
      "text/plain": [
       "[KeywordScore(word='너무너무너무', frequency=86, coefficient=3.8159005957233778),\n",
       " KeywordScore(word='선의', frequency=40, coefficient=3.2584820410431181),\n",
       " KeywordScore(word='산들', frequency=90, coefficient=2.4407245228574896),\n",
       " KeywordScore(word='엠카운트다운', frequency=221, coefficient=1.7601587420428146),\n",
       " KeywordScore(word='챔피언', frequency=105, coefficient=1.4864913827165669),\n",
       " KeywordScore(word='사나', frequency=46, coefficient=1.4183641861333143),\n",
       " KeywordScore(word='드림', frequency=119, coefficient=1.3338856375792103),\n",
       " KeywordScore(word='뮤직', frequency=195, coefficient=1.1767179765646125),\n",
       " KeywordScore(word='먹고', frequency=216, coefficient=1.1632972589808017),\n",
       " KeywordScore(word='완전체', frequency=77, coefficient=1.121112062888608),\n",
       " KeywordScore(word='일산', frequency=194, coefficient=0.96056172786240313),\n",
       " KeywordScore(word='세련', frequency=192, coefficient=0.95771231821225888),\n",
       " KeywordScore(word='같이', frequency=918, coefficient=0.85412065320926667),\n",
       " KeywordScore(word='컴백', frequency=536, coefficient=0.77051074415825638),\n",
       " KeywordScore(word='소속사', frequency=460, coefficient=0.7459114539464673),\n",
       " KeywordScore(word='곡으로', frequency=126, coefficient=0.74293440766925145),\n",
       " KeywordScore(word='보컬', frequency=155, coefficient=0.71907847004977321),\n",
       " KeywordScore(word='열창', frequency=40, coefficient=0.71820963359929646),\n",
       " KeywordScore(word='인사', frequency=1213, coefficient=0.6861835034270356),\n",
       " KeywordScore(word='만나게', frequency=127, coefficient=0.68348798299531499),\n",
       " KeywordScore(word='마무리', frequency=606, coefficient=0.62800201585489801),\n",
       " KeywordScore(word='박진영', frequency=81, coefficient=0.60858105225826498),\n",
       " KeywordScore(word='뉴스1스타', frequency=357, coefficient=0.5994079688075129),\n",
       " KeywordScore(word='선보', frequency=2623, coefficient=0.5991328126621337),\n",
       " KeywordScore(word='무대', frequency=1332, coefficient=0.59566970142984843),\n",
       " KeywordScore(word='수출', frequency=735, coefficient=0.57270452158419505),\n",
       " KeywordScore(word='서울신문', frequency=776, coefficient=0.54599208142575972),\n",
       " KeywordScore(word='활동', frequency=2473, coefficient=0.48982906430967205),\n",
       " KeywordScore(word='다이아', frequency=182, coefficient=0.48777225176754563),\n",
       " KeywordScore(word='유정', frequency=161, coefficient=0.48213745195652702),\n",
       " KeywordScore(word='인기', frequency=1494, coefficient=0.46247033267382587),\n",
       " KeywordScore(word='등장', frequency=1038, coefficient=0.45415447890208438),\n",
       " KeywordScore(word='매력', frequency=1371, coefficient=0.44879405500235814),\n",
       " KeywordScore(word='카메라', frequency=439, coefficient=0.42666768360514556),\n",
       " KeywordScore(word='개인', frequency=1246, coefficient=0.39146243857746132),\n",
       " KeywordScore(word='고양시', frequency=264, coefficient=0.36514635578073101),\n",
       " KeywordScore(word='비타민', frequency=115, coefficient=0.35920639857063325),\n",
       " KeywordScore(word='수준', frequency=2240, coefficient=0.3504028347634508),\n",
       " KeywordScore(word='한편', frequency=3393, coefficient=0.34148372045511538),\n",
       " KeywordScore(word='멤버들', frequency=504, coefficient=0.33566538247544381),\n",
       " KeywordScore(word='걸그룹', frequency=1060, coefficient=0.33367936677072374),\n",
       " KeywordScore(word='일산동구', frequency=36, coefficient=0.30220862710638191),\n",
       " KeywordScore(word='세븐', frequency=76, coefficient=0.29672573268230695),\n",
       " KeywordScore(word='예능', frequency=634, coefficient=0.28946135348173213),\n",
       " KeywordScore(word='1위', frequency=1357, coefficient=0.28645323862328065),\n",
       " KeywordScore(word='순위', frequency=259, coefficient=0.27757023502786754),\n",
       " KeywordScore(word='발매', frequency=664, coefficient=0.27450199045222645),\n",
       " KeywordScore(word='야구', frequency=148, coefficient=0.24342853341209081),\n",
       " KeywordScore(word='불독', frequency=1212, coefficient=0.19212342969806137),\n",
       " KeywordScore(word='다비치', frequency=84, coefficient=0.18326845852489299),\n",
       " KeywordScore(word='이날', frequency=6340, coefficient=0.17757610867554449),\n",
       " KeywordScore(word='신용재', frequency=82, coefficient=0.16778344314875565),\n",
       " KeywordScore(word='걸크러쉬', frequency=111, coefficient=0.16565112473467952),\n",
       " KeywordScore(word='파워풀', frequency=152, coefficient=0.15723011993850505),\n",
       " KeywordScore(word='화려', frequency=518, coefficient=0.14759845692649348),\n",
       " KeywordScore(word='프로듀스101', frequency=96, coefficient=0.067913199819615105),\n",
       " KeywordScore(word='일간스포츠', frequency=1235, coefficient=0.066701294431839322),\n",
       " KeywordScore(word='반전', frequency=202, coefficient=0.061189415697140724),\n",
       " KeywordScore(word='프로그램', frequency=2648, coefficient=0.058638750823318889),\n",
       " KeywordScore(word='스마트폰', frequency=996, coefficient=0.055365347455111034),\n",
       " KeywordScore(word='트와이스', frequency=655, coefficient=0.031567748626361698),\n",
       " KeywordScore(word='프로듀스', frequency=185, coefficient=0.016330659254325714),\n",
       " KeywordScore(word='키미', frequency=297, coefficient=0.0074839500614046605)]"
      ]
     },
     "execution_count": 7,
     "metadata": {},
     "output_type": "execute_result"
    }
   ],
   "source": [
    "keywords = lassobased_extractor.extract_from_word('아이오아이', minimum_number_of_keywords=30)\n",
    "keywords"
   ]
  },
  {
   "cell_type": "markdown",
   "metadata": {},
   "source": [
    "'최순실'의 경우에도 '박근혜-최순실 게이트'사건이 시작되는 단계이기 때문에 해당 뉴스들이 나오고 있었습니다. '최순실'이라는 단어가 들어간 문서를 선택하는 기준은 [게이트, 정유라, 고영태, 이화여대, 미르재단]과 같은 단어가 선택되어 해당 날짜의 뉴스를 잘 요약하고 있음을 볼 수 있습니다. "
   ]
  },
  {
   "cell_type": "code",
   "execution_count": 8,
   "metadata": {
    "collapsed": false
   },
   "outputs": [
    {
     "name": "stdout",
     "output_type": "stream",
     "text": [
      "77 keywords extracted from 0.100 cost\n"
     ]
    },
    {
     "data": {
      "text/plain": [
       "[KeywordScore(word='게이트', frequency=303, coefficient=4.2039744027059394),\n",
       " KeywordScore(word='정유라', frequency=329, coefficient=2.036813215953313),\n",
       " KeywordScore(word='고영태', frequency=65, coefficient=1.7210239759252404),\n",
       " KeywordScore(word='편파기소', frequency=54, coefficient=1.2855144476156439),\n",
       " KeywordScore(word='최서원', frequency=94, coefficient=1.2799071911280708),\n",
       " KeywordScore(word='비선', frequency=288, coefficient=1.0250321401288136),\n",
       " KeywordScore(word='씨와', frequency=372, coefficient=0.78303104867933293),\n",
       " KeywordScore(word='이화여대', frequency=651, coefficient=0.72298667752697188),\n",
       " KeywordScore(word='송민순', frequency=821, coefficient=0.68942381242963791),\n",
       " KeywordScore(word='뉴스', frequency=4682, coefficient=0.57871477523586123),\n",
       " KeywordScore(word='연설문', frequency=204, coefficient=0.49710754572260307),\n",
       " KeywordScore(word='침묵', frequency=223, coefficient=0.42648827071523282),\n",
       " KeywordScore(word='박근혜', frequency=1445, coefficient=0.40753898309866521),\n",
       " KeywordScore(word='실세', frequency=309, coefficient=0.36840262264447882),\n",
       " KeywordScore(word='거의', frequency=522, coefficient=0.36193148314299284),\n",
       " KeywordScore(word='미르재단', frequency=247, coefficient=0.34096786435982479),\n",
       " KeywordScore(word='자료', frequency=1029, coefficient=0.33000751119408783),\n",
       " KeywordScore(word='청와대', frequency=2112, coefficient=0.32718406999210708),\n",
       " KeywordScore(word='사퇴', frequency=463, coefficient=0.3232408989689125),\n",
       " KeywordScore(word='비선실세', frequency=219, coefficient=0.30971507201500487),\n",
       " KeywordScore(word='의혹', frequency=3602, coefficient=0.28761103101443908),\n",
       " KeywordScore(word='기자들', frequency=463, coefficient=0.27700815602850454),\n",
       " KeywordScore(word='더블루케이', frequency=194, coefficient=0.27063079322325545),\n",
       " KeywordScore(word='더블', frequency=225, coefficient=0.25481785789905165),\n",
       " KeywordScore(word='민생', frequency=164, coefficient=0.22886965258114816),\n",
       " KeywordScore(word='우병우', frequency=721, coefficient=0.22503305191010262),\n",
       " KeywordScore(word='독일', frequency=959, coefficient=0.22399276790055073),\n",
       " KeywordScore(word='설립', frequency=1522, coefficient=0.22255657334936071),\n",
       " KeywordScore(word='나라', frequency=1090, coefficient=0.21702867930495973),\n",
       " KeywordScore(word='검색어', frequency=62, coefficient=0.21683563707099299),\n",
       " KeywordScore(word='개명', frequency=124, coefficient=0.20693753371195062),\n",
       " KeywordScore(word='오늘', frequency=2318, coefficient=0.20266393747485775),\n",
       " KeywordScore(word='총격', frequency=750, coefficient=0.18621720519902887),\n",
       " KeywordScore(word='위원장', frequency=720, coefficient=0.1842485735511179),\n",
       " KeywordScore(word='이대', frequency=419, coefficient=0.17592741594945799),\n",
       " KeywordScore(word='교수', frequency=2075, coefficient=0.16716098134624116),\n",
       " KeywordScore(word='문체부', frequency=268, coefficient=0.1650556657783783),\n",
       " KeywordScore(word='호텔', frequency=826, coefficient=0.16443473017145613),\n",
       " KeywordScore(word='스포츠재단', frequency=676, coefficient=0.15540804430742824),\n",
       " KeywordScore(word='창단', frequency=108, coefficient=0.14938254205525522),\n",
       " KeywordScore(word='00', frequency=462, coefficient=0.14530758526483842),\n",
       " KeywordScore(word='재단', frequency=1690, coefficient=0.14376949959037472),\n",
       " KeywordScore(word='미르', frequency=604, coefficient=0.13241654695533089),\n",
       " KeywordScore(word='핵심', frequency=948, coefficient=0.12966311853711804),\n",
       " KeywordScore(word='간사', frequency=473, coefficient=0.12878714663824373),\n",
       " KeywordScore(word='학생들', frequency=1270, coefficient=0.12672295518910615),\n",
       " KeywordScore(word='새누리당', frequency=2151, coefficient=0.12081776653753207),\n",
       " KeywordScore(word='복지부', frequency=191, coefficient=0.11376108962550614),\n",
       " KeywordScore(word='정국', frequency=137, coefficient=0.11342683309411554),\n",
       " KeywordScore(word='수사', frequency=2215, coefficient=0.10924855189410726),\n",
       " KeywordScore(word='더불어민주당', frequency=1980, coefficient=0.1060607753882133),\n",
       " KeywordScore(word='개입', frequency=473, coefficient=0.10414976599006631),\n",
       " KeywordScore(word='대통령', frequency=5682, coefficient=0.10403125458070094),\n",
       " KeywordScore(word='특혜', frequency=532, coefficient=0.093957230812070192),\n",
       " KeywordScore(word='있습니다', frequency=3068, coefficient=0.089190537670413267),\n",
       " KeywordScore(word='부총리', frequency=426, coefficient=0.087572296732002536),\n",
       " KeywordScore(word='문제', frequency=4224, coefficient=0.087520167314022207),\n",
       " KeywordScore(word='오패산', frequency=412, coefficient=0.084669671047607503),\n",
       " KeywordScore(word='보도', frequency=1737, coefficient=0.083898519498884397),\n",
       " KeywordScore(word='금지', frequency=19890, coefficient=0.082535713932542415),\n",
       " KeywordScore(word='검토', frequency=871, coefficient=0.080255225207772118),\n",
       " KeywordScore(word='국정원', frequency=797, coefficient=0.07424739176946131),\n",
       " KeywordScore(word='여당', frequency=471, coefficient=0.070390346056842107),\n",
       " KeywordScore(word='확인', frequency=3545, coefficient=0.066714847772165672),\n",
       " KeywordScore(word='사람', frequency=4919, coefficient=0.065022950510143465),\n",
       " KeywordScore(word='언급', frequency=1094, coefficient=0.064556361270625875),\n",
       " KeywordScore(word='인권', frequency=512, coefficient=0.06311939506319568),\n",
       " KeywordScore(word='경제', frequency=3594, coefficient=0.050082918227067799),\n",
       " KeywordScore(word='대표', frequency=7727, coefficient=0.039937851953590273),\n",
       " KeywordScore(word='여야', frequency=477, coefficient=0.033552046770153894),\n",
       " KeywordScore(word='의원', frequency=2925, coefficient=0.031387073862593831),\n",
       " KeywordScore(word='이런', frequency=2693, coefficient=0.030432719011569791),\n",
       " KeywordScore(word='사람들', frequency=2455, coefficient=0.02921087560317033),\n",
       " KeywordScore(word='기존', frequency=2055, coefficient=0.02900408027110838),\n",
       " KeywordScore(word='전화', frequency=1002, coefficient=0.02275497260580233),\n",
       " KeywordScore(word='고발', frequency=435, coefficient=0.013449388954583493),\n",
       " KeywordScore(word='인터뷰', frequency=1376, coefficient=0.0041766383933147426)]"
      ]
     },
     "execution_count": 8,
     "metadata": {},
     "output_type": "execute_result"
    }
   ],
   "source": [
    "keywords = lassobased_extractor.extract_from_word('최순실', minimum_number_of_keywords=30)\n",
    "keywords"
   ]
  },
  {
   "cell_type": "code",
   "execution_count": null,
   "metadata": {
    "collapsed": true
   },
   "outputs": [],
   "source": []
  }
 ],
 "metadata": {
  "kernelspec": {
   "display_name": "Python 3",
   "language": "python",
   "name": "python3"
  },
  "language_info": {
   "codemirror_mode": {
    "name": "ipython",
    "version": 3
   },
   "file_extension": ".py",
   "mimetype": "text/x-python",
   "name": "python",
   "nbconvert_exporter": "python",
   "pygments_lexer": "ipython3",
   "version": "3.5.2"
  }
 },
 "nbformat": 4,
 "nbformat_minor": 0
}
