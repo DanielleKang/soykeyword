{
 "cells": [
  {
   "cell_type": "code",
   "execution_count": 1,
   "metadata": {
    "collapsed": true
   },
   "outputs": [],
   "source": [
    "import pickle\n",
    "\n",
    "with open('params', 'rb') as f:\n",
    "    params = pickle.load(f)\n",
    "    x = params['x']\n",
    "    index2word = params['index2word']\n",
    "    word2index = params['word2index']"
   ]
  },
  {
   "cell_type": "code",
   "execution_count": 2,
   "metadata": {
    "collapsed": false
   },
   "outputs": [],
   "source": [
    "import sys\n",
    "sys.path.append('../')\n",
    "import soykeyword"
   ]
  },
  {
   "cell_type": "code",
   "execution_count": 3,
   "metadata": {
    "collapsed": false
   },
   "outputs": [],
   "source": [
    "from soykeyword.lasso import LassoKeywordExtractor\n",
    "\n",
    "lassobased_extractor = LassoKeywordExtractor(costs=[500, 200, 100, 50, 10, 5, 1, 0.1],\n",
    "                                             min_tf=20, \n",
    "                                             min_df=10)\n",
    "\n",
    "lassobased_extractor.train(x, index2word)"
   ]
  },
  {
   "cell_type": "code",
   "execution_count": 4,
   "metadata": {
    "collapsed": false
   },
   "outputs": [],
   "source": [
    "documents = lassobased_extractor.get_document_index('아이오아이')"
   ]
  },
  {
   "cell_type": "code",
   "execution_count": 5,
   "metadata": {
    "collapsed": false
   },
   "outputs": [
    {
     "name": "stdout",
     "output_type": "stream",
     "text": [
      "4 keywords extracted from 0.100 cost\n",
      "4 keywords extracted from 1.000 cost\n",
      "5 keywords extracted from 5.000 cost\n",
      "4 keywords extracted from 10.000 cost\n",
      "9 keywords extracted from 50.000 cost\n",
      "18 keywords extracted from 100.000 cost\n",
      "28 keywords extracted from 200.000 cost\n",
      "43 keywords extracted from 500.000 cost\n"
     ]
    },
    {
     "data": {
      "text/plain": [
       "[KeywordScore(word='아이오아이', frequency=270, coefficient=17.56799565592231),\n",
       " KeywordScore(word='선의', frequency=40, coefficient=1.480434740926323),\n",
       " KeywordScore(word='산들', frequency=90, coefficient=1.2241056167059199),\n",
       " KeywordScore(word='뮤직', frequency=195, coefficient=1.216090529641175),\n",
       " KeywordScore(word='엠카운트다운', frequency=221, coefficient=0.99836522546522033),\n",
       " KeywordScore(word='뉴스1스타', frequency=357, coefficient=0.92455558152612871),\n",
       " KeywordScore(word='세련', frequency=192, coefficient=0.76807656230783894),\n",
       " KeywordScore(word='일산동구', frequency=36, coefficient=0.69521289522745144),\n",
       " KeywordScore(word='챔피언', frequency=105, coefficient=0.63119336175921004),\n",
       " KeywordScore(word='다비치', frequency=84, coefficient=0.62076241729543247),\n",
       " KeywordScore(word='프로듀스101', frequency=96, coefficient=0.50373584675884231),\n",
       " KeywordScore(word='키미', frequency=297, coefficient=0.41187845254582717),\n",
       " KeywordScore(word='강렬', frequency=352, coefficient=0.38900385786541064),\n",
       " KeywordScore(word='걸그룹', frequency=1060, coefficient=0.38586457744694025),\n",
       " KeywordScore(word='걸크러쉬', frequency=111, coefficient=0.37959251469387367),\n",
       " KeywordScore(word='수출', frequency=735, coefficient=0.36071653812212545),\n",
       " KeywordScore(word='이메일', frequency=222, coefficient=0.31661377210412067),\n",
       " KeywordScore(word='순위', frequency=259, coefficient=0.30547335783137863),\n",
       " KeywordScore(word='이런', frequency=2693, coefficient=0.23612887713235639),\n",
       " KeywordScore(word='보컬', frequency=155, coefficient=0.23377766399195979),\n",
       " KeywordScore(word='수준', frequency=2240, coefficient=0.20314721283103185),\n",
       " KeywordScore(word='방영', frequency=208, coefficient=0.18516225465814645),\n",
       " KeywordScore(word='화려', frequency=518, coefficient=0.17822178863213781),\n",
       " KeywordScore(word='1위', frequency=1357, coefficient=0.17352800147828515),\n",
       " KeywordScore(word='선보', frequency=2623, coefficient=0.15842740572444514),\n",
       " KeywordScore(word='해외', frequency=1612, coefficient=0.1552900638809932),\n",
       " KeywordScore(word='세븐', frequency=76, coefficient=0.14277105379172741),\n",
       " KeywordScore(word='신용재', frequency=82, coefficient=0.13186839208008613),\n",
       " KeywordScore(word='카메라', frequency=439, coefficient=0.11908701079113229),\n",
       " KeywordScore(word='구르미', frequency=549, coefficient=0.10754063797295221),\n",
       " KeywordScore(word='인사', frequency=1213, coefficient=0.091127111201421307),\n",
       " KeywordScore(word='컴백', frequency=536, coefficient=0.084413337488642548),\n",
       " KeywordScore(word='무대', frequency=1332, coefficient=0.072289832281987931),\n",
       " KeywordScore(word='뉴스1', frequency=5964, coefficient=0.071293467391291693),\n",
       " KeywordScore(word='먹고', frequency=216, coefficient=0.066255376984235503),\n",
       " KeywordScore(word='등장', frequency=1038, coefficient=0.059748371698712402),\n",
       " KeywordScore(word='엠넷', frequency=125, coefficient=0.031410052096463234),\n",
       " KeywordScore(word='후보', frequency=1766, coefficient=0.020084396577154599),\n",
       " KeywordScore(word='지금', frequency=2972, coefficient=0.01742750572116197),\n",
       " KeywordScore(word='맡았다', frequency=334, coefficient=0.017353382740867312),\n",
       " KeywordScore(word='진영', frequency=304, coefficient=0.013629240383914203),\n",
       " KeywordScore(word='스마트폰', frequency=996, coefficient=0.012388026958446138),\n",
       " KeywordScore(word='인기', frequency=1494, coefficient=0.010212021566602045)]"
      ]
     },
     "execution_count": 5,
     "metadata": {},
     "output_type": "execute_result"
    }
   ],
   "source": [
    "keywords = lassobased_extractor.extract_from_docs(documents, minimum_number_of_keywords=30)\n",
    "keywords"
   ]
  },
  {
   "cell_type": "code",
   "execution_count": 6,
   "metadata": {
    "collapsed": false
   },
   "outputs": [
    {
     "name": "stdout",
     "output_type": "stream",
     "text": [
      "28 keywords extracted from 0.100 cost\n",
      "63 keywords extracted from 1.000 cost\n"
     ]
    },
    {
     "data": {
      "text/plain": [
       "[KeywordScore(word='너무너무너무', frequency=86, coefficient=3.8132975168887526),\n",
       " KeywordScore(word='선의', frequency=40, coefficient=3.2604006440081812),\n",
       " KeywordScore(word='산들', frequency=90, coefficient=2.4466903853776172),\n",
       " KeywordScore(word='엠카운트다운', frequency=221, coefficient=1.7619021790070657),\n",
       " KeywordScore(word='챔피언', frequency=105, coefficient=1.4891637673705018),\n",
       " KeywordScore(word='사나', frequency=46, coefficient=1.4170590575648272),\n",
       " KeywordScore(word='드림', frequency=119, coefficient=1.3410780535641496),\n",
       " KeywordScore(word='뮤직', frequency=195, coefficient=1.1836575474109008),\n",
       " KeywordScore(word='먹고', frequency=216, coefficient=1.1657719313664119),\n",
       " KeywordScore(word='완전체', frequency=77, coefficient=1.1155591095135293),\n",
       " KeywordScore(word='일산', frequency=194, coefficient=0.96751205535516127),\n",
       " KeywordScore(word='세련', frequency=192, coefficient=0.95004811471662309),\n",
       " KeywordScore(word='같이', frequency=918, coefficient=0.84651284424017548),\n",
       " KeywordScore(word='컴백', frequency=536, coefficient=0.76877255363894059),\n",
       " KeywordScore(word='소속사', frequency=460, coefficient=0.74456056070062515),\n",
       " KeywordScore(word='곡으로', frequency=126, coefficient=0.73923707519436177),\n",
       " KeywordScore(word='보컬', frequency=155, coefficient=0.71962226091432602),\n",
       " KeywordScore(word='뉴스1스타', frequency=357, coefficient=0.71922225073808121),\n",
       " KeywordScore(word='열창', frequency=40, coefficient=0.71738403757822089),\n",
       " KeywordScore(word='만나게', frequency=127, coefficient=0.69587067671645897),\n",
       " KeywordScore(word='인사', frequency=1213, coefficient=0.68394410308836895),\n",
       " KeywordScore(word='마무리', frequency=606, coefficient=0.63120295733763043),\n",
       " KeywordScore(word='박진영', frequency=81, coefficient=0.60640049485285819),\n",
       " KeywordScore(word='선보', frequency=2623, coefficient=0.59912080878214624),\n",
       " KeywordScore(word='무대', frequency=1332, coefficient=0.59449833296409882),\n",
       " KeywordScore(word='수출', frequency=735, coefficient=0.57158024782684091),\n",
       " KeywordScore(word='서울신문', frequency=776, coefficient=0.54670822032238442),\n",
       " KeywordScore(word='활동', frequency=2473, coefficient=0.48762450127492912),\n",
       " KeywordScore(word='다이아', frequency=182, coefficient=0.48587140216514502),\n",
       " KeywordScore(word='유정', frequency=161, coefficient=0.48226772605570734),\n",
       " KeywordScore(word='인기', frequency=1494, coefficient=0.46275368484984902),\n",
       " KeywordScore(word='매력', frequency=1371, coefficient=0.44907578316409669),\n",
       " KeywordScore(word='등장', frequency=1038, coefficient=0.4445703226479395),\n",
       " KeywordScore(word='카메라', frequency=439, coefficient=0.42705723685959029),\n",
       " KeywordScore(word='개인', frequency=1246, coefficient=0.39385087425724929),\n",
       " KeywordScore(word='고양시', frequency=264, coefficient=0.37423949222072694),\n",
       " KeywordScore(word='비타민', frequency=115, coefficient=0.35882838730724648),\n",
       " KeywordScore(word='수준', frequency=2240, coefficient=0.35174971975741426),\n",
       " KeywordScore(word='멤버들', frequency=504, coefficient=0.33848361063885374),\n",
       " KeywordScore(word='한편', frequency=3393, coefficient=0.3352721938099264),\n",
       " KeywordScore(word='걸그룹', frequency=1060, coefficient=0.33510159920495997),\n",
       " KeywordScore(word='1위', frequency=1357, coefficient=0.28993539820653191),\n",
       " KeywordScore(word='예능', frequency=634, coefficient=0.28929688481693205),\n",
       " KeywordScore(word='세븐', frequency=76, coefficient=0.28321659258664966),\n",
       " KeywordScore(word='순위', frequency=259, coefficient=0.27639332880997919),\n",
       " KeywordScore(word='발매', frequency=664, coefficient=0.27372721602052102),\n",
       " KeywordScore(word='야구', frequency=148, coefficient=0.24212245741425636),\n",
       " KeywordScore(word='불독', frequency=1212, coefficient=0.19262658278824388),\n",
       " KeywordScore(word='다비치', frequency=84, coefficient=0.18177764251730569),\n",
       " KeywordScore(word='이날', frequency=6340, coefficient=0.17565711745031484),\n",
       " KeywordScore(word='파워풀', frequency=152, coefficient=0.17538877357964971),\n",
       " KeywordScore(word='걸크러쉬', frequency=111, coefficient=0.16341045975142354),\n",
       " KeywordScore(word='신용재', frequency=82, coefficient=0.16083128691748158),\n",
       " KeywordScore(word='화려', frequency=518, coefficient=0.1538921391090495),\n",
       " KeywordScore(word='일산동구', frequency=36, coefficient=0.12604649076461613),\n",
       " KeywordScore(word='프로듀스101', frequency=96, coefficient=0.067499091415668122),\n",
       " KeywordScore(word='일간스포츠', frequency=1235, coefficient=0.060622220221934857),\n",
       " KeywordScore(word='반전', frequency=202, coefficient=0.060519270365356953),\n",
       " KeywordScore(word='프로그램', frequency=2648, coefficient=0.057602263408516305),\n",
       " KeywordScore(word='스마트폰', frequency=996, coefficient=0.055026634980136047),\n",
       " KeywordScore(word='트와이스', frequency=655, coefficient=0.02984470467852595),\n",
       " KeywordScore(word='키미', frequency=297, coefficient=0.018418151257970004),\n",
       " KeywordScore(word='프로듀스', frequency=185, coefficient=0.016408598651114232)]"
      ]
     },
     "execution_count": 6,
     "metadata": {},
     "output_type": "execute_result"
    }
   ],
   "source": [
    "keywords = lassobased_extractor.extract_from_word('아이오아이', minimum_number_of_keywords=30)\n",
    "keywords"
   ]
  },
  {
   "cell_type": "code",
   "execution_count": 7,
   "metadata": {
    "collapsed": false
   },
   "outputs": [
    {
     "name": "stdout",
     "output_type": "stream",
     "text": [
      "78 keywords extracted from 0.100 cost\n"
     ]
    },
    {
     "data": {
      "text/plain": [
       "[KeywordScore(word='게이트', frequency=303, coefficient=4.2027703102187708),\n",
       " KeywordScore(word='정유라', frequency=329, coefficient=2.0362347756007022),\n",
       " KeywordScore(word='고영태', frequency=65, coefficient=1.7180591473658491),\n",
       " KeywordScore(word='편파기소', frequency=54, coefficient=1.2875641826181596),\n",
       " KeywordScore(word='최서원', frequency=94, coefficient=1.2771949514616516),\n",
       " KeywordScore(word='비선', frequency=288, coefficient=1.0127743879437674),\n",
       " KeywordScore(word='씨와', frequency=372, coefficient=0.783932427655881),\n",
       " KeywordScore(word='이화여대', frequency=651, coefficient=0.72315015211976097),\n",
       " KeywordScore(word='송민순', frequency=821, coefficient=0.69070498927737445),\n",
       " KeywordScore(word='뉴스', frequency=4682, coefficient=0.5794079056616942),\n",
       " KeywordScore(word='연설문', frequency=204, coefficient=0.49718150920923787),\n",
       " KeywordScore(word='침묵', frequency=223, coefficient=0.42632486915181383),\n",
       " KeywordScore(word='박근혜', frequency=1445, coefficient=0.40829849079709901),\n",
       " KeywordScore(word='실세', frequency=309, coefficient=0.37998757354408497),\n",
       " KeywordScore(word='거의', frequency=522, coefficient=0.36267733980323097),\n",
       " KeywordScore(word='미르재단', frequency=247, coefficient=0.34166985859893367),\n",
       " KeywordScore(word='자료', frequency=1029, coefficient=0.32982360270294403),\n",
       " KeywordScore(word='청와대', frequency=2112, coefficient=0.32728707386319528),\n",
       " KeywordScore(word='사퇴', frequency=463, coefficient=0.32274488787720185),\n",
       " KeywordScore(word='비선실세', frequency=219, coefficient=0.30987284325176223),\n",
       " KeywordScore(word='의혹', frequency=3602, coefficient=0.28744176597286453),\n",
       " KeywordScore(word='기자들', frequency=463, coefficient=0.27691422787775405),\n",
       " KeywordScore(word='더블루케이', frequency=194, coefficient=0.27199511556729938),\n",
       " KeywordScore(word='더블', frequency=225, coefficient=0.25680615974222398),\n",
       " KeywordScore(word='민생', frequency=164, coefficient=0.22777217881777237),\n",
       " KeywordScore(word='우병우', frequency=721, coefficient=0.22496444161282522),\n",
       " KeywordScore(word='독일', frequency=959, coefficient=0.22370453050216726),\n",
       " KeywordScore(word='설립', frequency=1522, coefficient=0.22293890269630912),\n",
       " KeywordScore(word='검색어', frequency=62, coefficient=0.21706394863745998),\n",
       " KeywordScore(word='나라', frequency=1090, coefficient=0.21577094721805437),\n",
       " KeywordScore(word='개명', frequency=124, coefficient=0.20868565896682309),\n",
       " KeywordScore(word='오늘', frequency=2318, coefficient=0.20302634869507982),\n",
       " KeywordScore(word='총격', frequency=750, coefficient=0.18571123742181966),\n",
       " KeywordScore(word='위원장', frequency=720, coefficient=0.1841746188259325),\n",
       " KeywordScore(word='이대', frequency=419, coefficient=0.17561053285122408),\n",
       " KeywordScore(word='교수', frequency=2075, coefficient=0.1672304325644445),\n",
       " KeywordScore(word='문체부', frequency=268, coefficient=0.1646144265580313),\n",
       " KeywordScore(word='호텔', frequency=826, coefficient=0.16435677465595308),\n",
       " KeywordScore(word='스포츠재단', frequency=676, coefficient=0.15449890285909965),\n",
       " KeywordScore(word='창단', frequency=108, coefficient=0.14775943043876458),\n",
       " KeywordScore(word='00', frequency=462, coefficient=0.14572208628255873),\n",
       " KeywordScore(word='재단', frequency=1690, coefficient=0.14374062947767657),\n",
       " KeywordScore(word='미르', frequency=604, coefficient=0.13245874964073115),\n",
       " KeywordScore(word='핵심', frequency=948, coefficient=0.12969696899331795),\n",
       " KeywordScore(word='간사', frequency=473, coefficient=0.12905767834671089),\n",
       " KeywordScore(word='학생들', frequency=1270, coefficient=0.12660446364041544),\n",
       " KeywordScore(word='새누리당', frequency=2151, coefficient=0.12075109835954657),\n",
       " KeywordScore(word='복지부', frequency=191, coefficient=0.11364955184779418),\n",
       " KeywordScore(word='정국', frequency=137, coefficient=0.11335617755495693),\n",
       " KeywordScore(word='수사', frequency=2215, coefficient=0.10932391791722058),\n",
       " KeywordScore(word='더불어민주당', frequency=1980, coefficient=0.10571892258447213),\n",
       " KeywordScore(word='개입', frequency=473, coefficient=0.10408702316258987),\n",
       " KeywordScore(word='대통령', frequency=5682, coefficient=0.10405883032987895),\n",
       " KeywordScore(word='특혜', frequency=532, coefficient=0.093789878398459578),\n",
       " KeywordScore(word='있습니다', frequency=3068, coefficient=0.089030052134566565),\n",
       " KeywordScore(word='부총리', frequency=426, coefficient=0.087740017694046588),\n",
       " KeywordScore(word='문제', frequency=4224, coefficient=0.087482016759011322),\n",
       " KeywordScore(word='오패산', frequency=412, coefficient=0.084903092222655394),\n",
       " KeywordScore(word='보도', frequency=1737, coefficient=0.083693313519998758),\n",
       " KeywordScore(word='금지', frequency=19890, coefficient=0.080645185482519324),\n",
       " KeywordScore(word='검토', frequency=871, coefficient=0.080421811553298514),\n",
       " KeywordScore(word='국정원', frequency=797, coefficient=0.073365140954114033),\n",
       " KeywordScore(word='여당', frequency=471, coefficient=0.070845696912813533),\n",
       " KeywordScore(word='확인', frequency=3545, coefficient=0.066592247048602324),\n",
       " KeywordScore(word='사람', frequency=4919, coefficient=0.065093398976990832),\n",
       " KeywordScore(word='언급', frequency=1094, coefficient=0.064487283490210837),\n",
       " KeywordScore(word='인권', frequency=512, coefficient=0.063087223345665203),\n",
       " KeywordScore(word='경제', frequency=3594, coefficient=0.050322794401912105),\n",
       " KeywordScore(word='대표', frequency=7727, coefficient=0.040021173656186043),\n",
       " KeywordScore(word='여야', frequency=477, coefficient=0.032567203619644554),\n",
       " KeywordScore(word='의원', frequency=2925, coefficient=0.03129803471097771),\n",
       " KeywordScore(word='이런', frequency=2693, coefficient=0.030669965704115773),\n",
       " KeywordScore(word='기존', frequency=2055, coefficient=0.029012340390159722),\n",
       " KeywordScore(word='사람들', frequency=2455, coefficient=0.028775672111410439),\n",
       " KeywordScore(word='전화', frequency=1002, coefficient=0.022225674246370074),\n",
       " KeywordScore(word='고발', frequency=435, coefficient=0.01301027835398204),\n",
       " KeywordScore(word='인터뷰', frequency=1376, coefficient=0.0039993603901845674),\n",
       " KeywordScore(word='일이다', frequency=194, coefficient=3.9871281725942432e-05)]"
      ]
     },
     "execution_count": 7,
     "metadata": {},
     "output_type": "execute_result"
    }
   ],
   "source": [
    "keywords = lassobased_extractor.extract_from_word('최순실', minimum_number_of_keywords=30)\n",
    "keywords"
   ]
  },
  {
   "cell_type": "code",
   "execution_count": null,
   "metadata": {
    "collapsed": true
   },
   "outputs": [],
   "source": []
  }
 ],
 "metadata": {
  "kernelspec": {
   "display_name": "Python 3",
   "language": "python",
   "name": "python3"
  },
  "language_info": {
   "codemirror_mode": {
    "name": "ipython",
    "version": 3
   },
   "file_extension": ".py",
   "mimetype": "text/x-python",
   "name": "python",
   "nbconvert_exporter": "python",
   "pygments_lexer": "ipython3",
   "version": "3.5.2"
  }
 },
 "nbformat": 4,
 "nbformat_minor": 0
}
