{
 "cells": [
  {
   "cell_type": "code",
   "execution_count": 1,
   "metadata": {
    "collapsed": false
   },
   "outputs": [
    {
     "name": "stdout",
     "output_type": "stream",
     "text": [
      "raw_corpus_fname과 tokenized_corpus_fname의 타입은 str입니다. \n",
      "<class 'str'> <class 'str'>\n"
     ]
    }
   ],
   "source": [
    "from config import raw_corpus_fname, tokenized_corpus_fname\n",
    "print('raw_corpus_fname과 tokenized_corpus_fname의 타입은 str입니다. ')\n",
    "print(type(raw_corpus_fname), type(tokenized_corpus_fname))\n",
    "\n",
    "import sys\n",
    "sys.path.append('../')\n",
    "import soykeyword"
   ]
  },
  {
   "cell_type": "code",
   "execution_count": 2,
   "metadata": {
    "collapsed": false
   },
   "outputs": [
    {
     "data": {
      "text/plain": [
       "'2016-10-20_article_all_normed_nountokenized.txt'"
      ]
     },
     "execution_count": 2,
     "metadata": {},
     "output_type": "execute_result"
    }
   ],
   "source": [
    "tokenized_corpus_fname.split('/')[-1]"
   ]
  },
  {
   "cell_type": "code",
   "execution_count": 3,
   "metadata": {
    "collapsed": true
   },
   "outputs": [],
   "source": [
    "class Corpus:\n",
    "    def __init__(self, fname):\n",
    "        self.fname = fname\n",
    "        self.length = 0\n",
    "    def __iter__(self):\n",
    "        with open(self.fname, encoding='utf-8') as f:\n",
    "            for doc in f:\n",
    "                yield doc.strip()\n",
    "    def __len__(self):\n",
    "        if self.length == 0:\n",
    "            with open(self.fname, encoding='utf-8') as f:\n",
    "                for n_doc, _ in enumerate(f):\n",
    "                    continue\n",
    "                self.length = (n_doc + 1)\n",
    "        return self.length"
   ]
  },
  {
   "cell_type": "code",
   "execution_count": 4,
   "metadata": {
    "collapsed": false
   },
   "outputs": [
    {
     "name": "stdout",
     "output_type": "stream",
     "text": [
      "training was done 34572 terms, 30091 docs, memory = 0.436 Gb\n"
     ]
    }
   ],
   "source": [
    "from soykeyword.proportion import CorpusbasedKeywordExtractor\n",
    "\n",
    "corpusbased_extractor = CorpusbasedKeywordExtractor(min_tf=20, \n",
    "                                                    min_df=2, \n",
    "                                                    tokenize=lambda x:x.strip().split(), \n",
    "                                                    verbose=True)\n",
    "\n",
    "corpusbased_extractor.train(Corpus(tokenized_corpus_fname))"
   ]
  },
  {
   "cell_type": "code",
   "execution_count": 5,
   "metadata": {
    "collapsed": false
   },
   "outputs": [
    {
     "name": "stdout",
     "output_type": "stream",
     "text": [
      "박근혜 1445\n",
      "문재인 1010\n",
      "최순실 1318\n",
      "아이오아이 270\n",
      "트와이스 655\n",
      "군사 170\n",
      "외교 881\n"
     ]
    }
   ],
   "source": [
    "for word in ['박근혜', '문재인', '최순실', '아이오아이', '트와이스', '군사', '외교']:\n",
    "    print(word, corpusbased_extractor.frequency(word))"
   ]
  },
  {
   "cell_type": "code",
   "execution_count": 6,
   "metadata": {
    "collapsed": true
   },
   "outputs": [],
   "source": [
    "documents = corpusbased_extractor.get_document_index('아이오아이')"
   ]
  },
  {
   "cell_type": "code",
   "execution_count": 7,
   "metadata": {
    "collapsed": false
   },
   "outputs": [
    {
     "data": {
      "text/plain": [
       "[6884, 6897, 6956, 7338, 7345, 7582, 8011, 8053, 9180, 9228]"
      ]
     },
     "execution_count": 7,
     "metadata": {},
     "output_type": "execute_result"
    }
   ],
   "source": [
    "documents[:10]"
   ]
  },
  {
   "cell_type": "code",
   "execution_count": 8,
   "metadata": {
    "collapsed": false
   },
   "outputs": [
    {
     "data": {
      "text/plain": [
       "[KeywordScore(word='아이오아이', frequency=270, score=1.0),\n",
       " KeywordScore(word='엠카운트다운', frequency=221, score=0.997897148491129),\n",
       " KeywordScore(word='펜타곤', frequency=104, score=0.9936420169665052),\n",
       " KeywordScore(word='잠깐', frequency=162, score=0.9931809154109712),\n",
       " KeywordScore(word='엠넷', frequency=125, score=0.9910325251765126),\n",
       " KeywordScore(word='걸크러쉬', frequency=111, score=0.9904705029926091),\n",
       " KeywordScore(word='타이틀곡', frequency=311, score=0.987384461584851),\n",
       " KeywordScore(word='코드', frequency=105, score=0.9871835929954923),\n",
       " KeywordScore(word='본명', frequency=105, score=0.9863934667369743),\n",
       " KeywordScore(word='엑스', frequency=101, score=0.9852544036088814)]"
      ]
     },
     "execution_count": 8,
     "metadata": {},
     "output_type": "execute_result"
    }
   ],
   "source": [
    "keywords = corpusbased_extractor.extract_from_word('아이오아이', min_score=0.8, min_count=100)\n",
    "keywords[:10]"
   ]
  },
  {
   "cell_type": "code",
   "execution_count": 9,
   "metadata": {
    "collapsed": false
   },
   "outputs": [
    {
     "data": {
      "text/plain": [
       "[KeywordScore(word='아이오아이', frequency=270, score=1.0),\n",
       " KeywordScore(word='엠카운트다운', frequency=221, score=0.997897148491129),\n",
       " KeywordScore(word='펜타곤', frequency=104, score=0.9936420169665052),\n",
       " KeywordScore(word='잠깐', frequency=162, score=0.9931809154109712),\n",
       " KeywordScore(word='엠넷', frequency=125, score=0.9910325251765126),\n",
       " KeywordScore(word='걸크러쉬', frequency=111, score=0.9904705029926091),\n",
       " KeywordScore(word='타이틀곡', frequency=311, score=0.987384461584851),\n",
       " KeywordScore(word='코드', frequency=105, score=0.9871835929954923),\n",
       " KeywordScore(word='본명', frequency=105, score=0.9863934667369743),\n",
       " KeywordScore(word='엑스', frequency=101, score=0.9852544036088814)]"
      ]
     },
     "execution_count": 9,
     "metadata": {},
     "output_type": "execute_result"
    }
   ],
   "source": [
    "keywords = corpusbased_extractor.extract_from_docs(documents, min_score=0.8, min_count=100)\n",
    "keywords[:10]"
   ]
  },
  {
   "cell_type": "code",
   "execution_count": 10,
   "metadata": {
    "collapsed": false,
    "scrolled": false
   },
   "outputs": [
    {
     "name": "stdout",
     "output_type": "stream",
     "text": [
      "Aspect word = 박근혜\n",
      " 박근혜 (1445, 1.00)  -  수석비서관회의 (208, 1.00)  -    재단들 (152, 1.00)  -    연설문 (204, 0.99)\n",
      "  누구라 (178, 0.99)  -   불법행위 (240, 0.99)  -     퇴임 (188, 0.98)  -     엄정 (388, 0.98)\n",
      " 창조경제 (226, 0.98)  -    처벌받 (227, 0.98)  -     미르 (604, 0.98)  -  스포츠재단 (676, 0.97)\n",
      "더블루케이 (194, 0.97)  -     최씨 (695, 0.97)  -    재단 (1690, 0.97)  -  자유학기제 (201, 0.97)\n",
      " 비선실세 (219, 0.97)  -   최순실씨 (520, 0.97)  -   미르재단 (247, 0.96)  -    게이트 (303, 0.96)\n",
      " 대통령 (5682, 0.96)  -     모녀 (223, 0.96)  -   행복교육 (227, 0.95)  -     실세 (309, 0.95)\n",
      "   비선 (288, 0.95)  -   최순실 (1318, 0.95)  -    의혹 (3602, 0.95)  -     고양 (278, 0.95)\n",
      "   국정 (185, 0.94)  -   청와대 (2112, 0.94)  -    지지층 (151, 0.94)  -    킨텍스 (332, 0.94)\n",
      "   체육 (221, 0.94)  -     재계 (152, 0.93)  -     민생 (164, 0.93)  -  2002년 (186, 0.93)\n",
      "   정권 (596, 0.93)  -     가중 (175, 0.93)  -     유용 (359, 0.93)  -    전경련 (348, 0.93)\n",
      "   주재 (459, 0.93)  -    국민들 (441, 0.93)  -     백승 (216, 0.92)  -    갤러리 (271, 0.92)\n",
      "  기업들 (808, 0.92)  -    지지율 (336, 0.92)  -     확산 (800, 0.91)  -    철저히 (327, 0.91)\n",
      "--------------------------------------------------------------------------------\n",
      "Aspect word = 문재인\n",
      " 문재인 (1010, 1.00)  -    색깔론 (160, 0.99)  -    김만복 (240, 0.99)  -     기권 (532, 0.99)\n",
      "북한인권결의안 (324, 0.99)  -   회고록 (1190, 0.99)  -    송민순 (821, 0.99)  -  외교통상부 (184, 0.99)\n",
      "  노무현 (303, 0.99)  -   국정원장 (795, 0.99)  -    이병호 (370, 0.99)  -     쪽지 (203, 0.99)\n",
      "인권결의안 (168, 0.98)  -    성북구 (153, 0.98)  -    안철수 (201, 0.98)  -     표결 (231, 0.98)\n",
      "  정보위 (340, 0.97)  -   제3지대 (172, 0.97)  -     야권 (450, 0.97)  -  정보위원회 (153, 0.97)\n",
      "   진실 (498, 0.97)  -     개헌 (332, 0.97)  -   사무총장 (211, 0.97)  -    더민주 (355, 0.96)\n",
      "   간사 (473, 0.96)  -    브리핑 (565, 0.96)  -  2007년 (741, 0.96)  -    결의안 (177, 0.96)\n",
      "   남북 (199, 0.96)  -    국정원 (797, 0.95)  -     공세 (450, 0.95)  -  새누리당 (2151, 0.95)\n",
      "   탈당 (646, 0.95)  -    원장 (1296, 0.95)  -     유엔 (738, 0.95)  -   과학기술 (248, 0.95)\n",
      "   파문 (235, 0.95)  -     여당 (471, 0.95)  -   비서실장 (445, 0.95)  -     공방 (278, 0.94)\n",
      "   왜곡 (179, 0.94)  -     국정 (185, 0.94)  -     찬성 (325, 0.94)  -  더불어민주당 (1980, 0.94)\n",
      "  지지율 (336, 0.94)  -     여야 (477, 0.94)  -    지지층 (151, 0.94)  -     전제 (170, 0.94)\n",
      "--------------------------------------------------------------------------------\n",
      "Aspect word = 최순실\n",
      " 최순실 (1318, 1.00)  -    게이트 (303, 1.00)  -    정유라 (329, 1.00)  -    연설문 (204, 0.99)\n",
      "   모녀 (223, 0.99)  -     비선 (288, 0.99)  -  더블루케이 (194, 0.98)  -     실세 (309, 0.98)\n",
      "스포츠재단 (676, 0.98)  -     최씨 (695, 0.98)  -    최경희 (223, 0.98)  -   이화여대 (651, 0.98)\n",
      "   특혜 (532, 0.98)  -   미르재단 (247, 0.98)  -     학점 (191, 0.98)  -   비선실세 (219, 0.98)\n",
      "   이대 (419, 0.97)  -     미르 (604, 0.97)  -    재단 (1690, 0.97)  -   정유라씨 (200, 0.97)\n",
      "   엄정 (388, 0.97)  -     사퇴 (463, 0.96)  -    의혹 (3602, 0.96)  -    누구라 (178, 0.96)\n",
      "   사임 (245, 0.96)  -    교수들 (183, 0.96)  -     입학 (356, 0.96)  -   창조경제 (226, 0.96)\n",
      " 최순실씨 (520, 0.95)  -  수석비서관회의 (208, 0.95)  -    총장 (1215, 0.95)  -    문체부 (268, 0.95)\n",
      "   국정 (185, 0.95)  -    색깔론 (160, 0.95)  -     침묵 (223, 0.95)  -   불법행위 (240, 0.95)\n",
      "   모금 (238, 0.95)  -    재단들 (152, 0.95)  -    처벌받 (227, 0.95)  -     본관 (204, 0.95)\n",
      "   비리 (427, 0.94)  -   청와대 (2112, 0.94)  -   박근혜 (1445, 0.94)  -     퇴임 (188, 0.94)\n",
      "   개입 (473, 0.93)  -    설립 (1522, 0.93)  -    전경련 (348, 0.93)  -     더블 (225, 0.93)\n",
      "--------------------------------------------------------------------------------\n",
      "Aspect word = 아이오아이\n",
      "아이오아이 (270, 1.00)  -  엠카운트다운 (221, 1.00)  -     잠깐 (162, 0.99)  -   타이틀곡 (311, 0.99)\n",
      "방탄소년단 (638, 0.98)  -     키미 (297, 0.98)  -     보컬 (155, 0.98)  -   에이핑크 (237, 0.98)\n",
      "   유정 (161, 0.98)  -    파워풀 (152, 0.98)  -     형은 (311, 0.98)  -   프로듀스 (185, 0.98)\n",
      "  샤이니 (299, 0.98)  -    불독 (1212, 0.98)  -    다이아 (182, 0.98)  -     음반 (204, 0.98)\n",
      "   컴백 (536, 0.98)  -     세이 (267, 0.98)  -     순위 (259, 0.98)  -    콘셉트 (320, 0.98)\n",
      "  멤버들 (504, 0.98)  -     소라 (262, 0.97)  -    무대 (1332, 0.97)  -     발랄 (250, 0.97)\n",
      "   언니 (172, 0.97)  -     진영 (304, 0.97)  -     뮤직 (195, 0.97)  -   서바이벌 (203, 0.97)\n",
      "   싱글 (432, 0.97)  -     당당 (242, 0.97)  -   걸그룹 (1060, 0.96)  -    사운드 (189, 0.96)\n",
      "   각오 (168, 0.96)  -     강렬 (352, 0.96)  -    101 (341, 0.96)  -     실감 (167, 0.96)\n",
      " 쇼케이스 (549, 0.95)  -     작사 (230, 0.95)  -    1위 (1357, 0.95)  -    데뷔 (1365, 0.95)\n",
      " 미니앨범 (197, 0.95)  -     멤버 (624, 0.95)  -   프로듀서 (223, 0.95)  -     신곡 (400, 0.94)\n",
      "   신인 (328, 0.94)  -     일산 (194, 0.94)  -  뉴스1스타 (357, 0.94)  -     롤링 (391, 0.94)\n",
      "--------------------------------------------------------------------------------\n",
      "Aspect word = 트와이스\n",
      " 트와이스 (655, 1.00)  -   가온차트 (191, 1.00)  -   스트리밍 (329, 1.00)  -   미니앨범 (197, 1.00)\n",
      "  1주년 (201, 1.00)  -     티저 (289, 0.99)  -    두번째 (201, 0.99)  -  뮤직비디오 (553, 0.99)\n",
      "  타이틀 (270, 0.99)  -     누적 (799, 0.99)  -    아이돌 (301, 0.98)  -    유튜브 (473, 0.98)\n",
      "   컴백 (536, 0.98)  -     0시 (190, 0.98)  -    1위 (1357, 0.98)  -   프로모션 (198, 0.98)\n",
      "   음반 (204, 0.98)  -     1억 (415, 0.98)  -   타이틀곡 (311, 0.97)  -     93 (181, 0.97)\n",
      "  데뷔 (1365, 0.97)  -     코너 (239, 0.97)  -     맞은 (316, 0.97)  -     맞이 (293, 0.97)\n",
      " 걸그룹 (1060, 0.97)  -     한류 (297, 0.97)  -     앞둔 (370, 0.97)  -    판매량 (231, 0.96)\n",
      "2016년 (1337, 0.96)  -     대만 (251, 0.96)  -   페스티벌 (334, 0.96)  -     팬들 (999, 0.96)\n",
      "   신곡 (400, 0.96)  -  아이오아이 (270, 0.96)  -     잠실 (188, 0.95)  -   24일 (1136, 0.95)\n",
      "  콘서트 (463, 0.95)  -     입증 (297, 0.95)  -    6개월 (382, 0.95)  -     음원 (318, 0.95)\n",
      "   4월 (823, 0.95)  -    콘셉트 (320, 0.95)  -     축하 (189, 0.95)  -     73 (246, 0.94)\n",
      " 블랙핑크 (190, 0.94)  -    번째 (1158, 0.94)  -     돌파 (569, 0.94)  -     문구 (152, 0.94)\n",
      "--------------------------------------------------------------------------------\n",
      "Aspect word = 군사\n",
      "   군사 (170, 1.00)  -    내구성 (174, 0.98)  -    테스트 (534, 0.98)  -     전자 (669, 0.97)\n",
      "  국방부 (462, 0.96)  -     평택 (272, 0.96)  -    군사적 (179, 0.96)  -     국방 (399, 0.96)\n",
      "   해군 (306, 0.96)  -    협의체 (408, 0.96)  -     품질 (461, 0.96)  -    휴대폰 (213, 0.96)\n",
      "확장억제전략협의체 (150, 0.96)  -   남중국해 (188, 0.95)  -     전투 (196, 0.95)  -     시험 (683, 0.95)\n",
      "   미군 (152, 0.95)  -     성능 (309, 0.95)  -    고위급 (189, 0.95)  -     억제 (324, 0.95)\n",
      " 확장억제 (521, 0.95)  -     부장 (178, 0.95)  -     저자 (222, 0.95)  -     대북 (409, 0.94)\n",
      " 스마트폰 (996, 0.94)  -   공동성명 (155, 0.94)  -     카터 (208, 0.94)  -     독도 (217, 0.94)\n",
      "   분쟁 (247, 0.94)  -    핵무기 (227, 0.93)  -     외교 (881, 0.93)  -    전략적 (178, 0.93)\n",
      "   회담 (180, 0.93)  -     양국 (971, 0.93)  -     한미 (995, 0.93)  -     3층 (164, 0.93)\n",
      "  연설문 (204, 0.93)  -   국방장관 (504, 0.93)  -   북한인권 (171, 0.93)  -     충격 (477, 0.93)\n",
      "  워싱턴 (557, 0.93)  -    한반도 (416, 0.93)  -     드론 (196, 0.92)  -     수백 (214, 0.92)\n",
      "   신설 (444, 0.92)  -     통과 (493, 0.92)  -    생산 (1186, 0.92)  -    김정은 (479, 0.92)\n",
      "--------------------------------------------------------------------------------\n",
      "Aspect word = 외교\n",
      "   외교 (881, 1.00)  -  확장억제전략협의체 (150, 1.00)  -   확장억제 (521, 1.00)  -   공동성명 (155, 1.00)\n",
      " 국방장관 (504, 1.00)  -     케리 (401, 1.00)  -    고위급 (189, 1.00)  -     카터 (208, 1.00)\n",
      "   한미 (995, 1.00)  -    윤병세 (298, 0.99)  -    핵무기 (227, 0.99)  -    협의체 (408, 0.99)\n",
      "  군사적 (179, 0.99)  -    워싱턴 (557, 0.99)  -     국방 (399, 0.99)  -    국무부 (233, 0.99)\n",
      "   양국 (971, 0.99)  -   국무장관 (306, 0.99)  -    외교부 (573, 0.98)  -     사드 (251, 0.98)\n",
      "  재확인 (189, 0.98)  -     대북 (409, 0.98)  -    안보리 (195, 0.98)  -    한반도 (416, 0.98)\n",
      "   상시 (258, 0.98)  -     직면 (211, 0.98)  -   두테르테 (377, 0.97)  -   미사일 (1335, 0.97)\n",
      "   억제 (324, 0.97)  -     위협 (749, 0.97)  -    압도적 (190, 0.97)  -    핵실험 (172, 0.97)\n",
      " 남중국해 (188, 0.97)  -     공약 (274, 0.97)  -   국제사회 (239, 0.97)  -     결의 (258, 0.96)\n",
      "   배치 (805, 0.96)  -     북핵 (156, 0.96)  -   정상회담 (174, 0.96)  -   북한인권 (171, 0.96)\n",
      "   도발 (422, 0.96)  -     제재 (470, 0.96)  -     압박 (483, 0.96)  -    국방부 (462, 0.96)\n",
      "   동맹 (267, 0.96)  -     회담 (180, 0.95)  -    북한 (4132, 0.95)  -    무수단 (533, 0.95)\n",
      "--------------------------------------------------------------------------------\n"
     ]
    }
   ],
   "source": [
    "for word in ['박근혜', '문재인', '최순실', '아이오아이', '트와이스', '군사', '외교']:\n",
    "    keywords = corpusbased_extractor.extract_from_word(word, min_score=0.8, min_count=150)[:48]\n",
    "    print('Aspect word = %s' % word)\n",
    "    for i in range(12):\n",
    "        subkeywords = keywords[4*i:4*i+4]\n",
    "        subkeywords = '  -  '.join(['%17s'%s for s in ['%s (%d, %.2f)' % (keyword.word, keyword.frequency, keyword.score) for keyword in subkeywords]]) \n",
    "        print(subkeywords)\n",
    "    print('-'*80)"
   ]
  },
  {
   "cell_type": "code",
   "execution_count": 11,
   "metadata": {
    "collapsed": false
   },
   "outputs": [
    {
     "name": "stdout",
     "output_type": "stream",
     "text": [
      "(30091, 9774)\n"
     ]
    }
   ],
   "source": [
    "from sklearn.feature_extraction.text import CountVectorizer\n",
    "\n",
    "vectorizer = CountVectorizer(min_df=0.001)\n",
    "x = vectorizer.fit_transform(Corpus(tokenized_corpus_fname))\n",
    "\n",
    "print(x.shape)"
   ]
  },
  {
   "cell_type": "code",
   "execution_count": 12,
   "metadata": {
    "collapsed": false
   },
   "outputs": [],
   "source": [
    "word2index = vectorizer.vocabulary_\n",
    "index2word = sorted(vectorizer.vocabulary_, key=lambda x:vectorizer.vocabulary_[x])"
   ]
  },
  {
   "cell_type": "code",
   "execution_count": 14,
   "metadata": {
    "collapsed": false
   },
   "outputs": [
    {
     "name": "stdout",
     "output_type": "stream",
     "text": [
      "MatrixbasedKeywordExtractor trained\n"
     ]
    }
   ],
   "source": [
    "from soykeyword.proportion import MatrixbasedKeywordExtractor\n",
    "\n",
    "matrixbased_extractor = MatrixbasedKeywordExtractor(min_tf=20, \n",
    "                                                    min_df=2,\n",
    "                                                    verbose=True)\n",
    "matrixbased_extractor.train(x)"
   ]
  },
  {
   "cell_type": "code",
   "execution_count": 15,
   "metadata": {
    "collapsed": false
   },
   "outputs": [
    {
     "data": {
      "text/plain": [
       "[KeywordScore(word=5537, frequency=270, score=1.0),\n",
       " KeywordScore(word=5880, frequency=221, score=0.9978307775631691),\n",
       " KeywordScore(word=8976, frequency=104, score=0.9934422266805437),\n",
       " KeywordScore(word=7126, frequency=162, score=0.9929667382454291),\n",
       " KeywordScore(word=5879, frequency=125, score=0.9907514986652862),\n",
       " KeywordScore(word=1103, frequency=111, score=0.99017203825805),\n",
       " KeywordScore(word=8721, frequency=311, score=0.9869906112674688),\n",
       " KeywordScore(word=8651, frequency=105, score=0.9867835556082788),\n",
       " KeywordScore(word=4035, frequency=105, score=0.98596911773225),\n",
       " KeywordScore(word=5869, frequency=101, score=0.9847950780631249)]"
      ]
     },
     "execution_count": 15,
     "metadata": {},
     "output_type": "execute_result"
    }
   ],
   "source": [
    "keywords = matrixbased_extractor.extract_from_word(5537, min_score=0.8, min_count=100)\n",
    "keywords[:10]"
   ]
  },
  {
   "cell_type": "code",
   "execution_count": 16,
   "metadata": {
    "collapsed": false
   },
   "outputs": [
    {
     "name": "stdout",
     "output_type": "stream",
     "text": [
      "word=아이오아이, frequency=270, score=1.000\n",
      "word=엠카운트다운, frequency=221, score=0.998\n",
      "word=펜타곤, frequency=104, score=0.993\n",
      "word=잠깐, frequency=162, score=0.993\n",
      "word=엠넷, frequency=125, score=0.991\n",
      "word=걸크러쉬, frequency=111, score=0.990\n",
      "word=타이틀곡, frequency=311, score=0.987\n",
      "word=코드, frequency=105, score=0.987\n",
      "word=본명, frequency=105, score=0.986\n",
      "word=엑스, frequency=101, score=0.985\n"
     ]
    }
   ],
   "source": [
    "for keyword in keywords[:10]:\n",
    "    print('word=%s, frequency=%d, score=%.3f' % (index2word[keyword.word], keyword.frequency, keyword.score))"
   ]
  },
  {
   "cell_type": "code",
   "execution_count": 18,
   "metadata": {
    "collapsed": false
   },
   "outputs": [
    {
     "name": "stdout",
     "output_type": "stream",
     "text": [
      "If you want to insert str word, you should trained index2word first\n"
     ]
    }
   ],
   "source": [
    "try:\n",
    "    keywords = matrixbased_extractor.extract_from_word('아이오아이', min_score=0.8, min_count=100)\n",
    "except Exception as e:\n",
    "    print(e)"
   ]
  },
  {
   "cell_type": "code",
   "execution_count": 19,
   "metadata": {
    "collapsed": false
   },
   "outputs": [
    {
     "name": "stdout",
     "output_type": "stream",
     "text": [
      "MatrixbasedKeywordExtractor trained\n"
     ]
    }
   ],
   "source": [
    "matrixbased_extractor_w_indexer = MatrixbasedKeywordExtractor(min_tf=20, \n",
    "                                                    min_df=2,\n",
    "                                                    verbose=True)\n",
    "matrixbased_extractor.train(x, index2word)"
   ]
  },
  {
   "cell_type": "code",
   "execution_count": 20,
   "metadata": {
    "collapsed": false
   },
   "outputs": [
    {
     "data": {
      "text/plain": [
       "[KeywordScore(word='아이오아이', frequency=0, score=1.0),\n",
       " KeywordScore(word='엠카운트다운', frequency=0, score=0.9978307775631691),\n",
       " KeywordScore(word='펜타곤', frequency=0, score=0.9934422266805437),\n",
       " KeywordScore(word='잠깐', frequency=0, score=0.9929667382454291),\n",
       " KeywordScore(word='엠넷', frequency=0, score=0.9907514986652862),\n",
       " KeywordScore(word='걸크러쉬', frequency=0, score=0.99017203825805),\n",
       " KeywordScore(word='타이틀곡', frequency=0, score=0.9869906112674688),\n",
       " KeywordScore(word='코드', frequency=0, score=0.9867835556082788),\n",
       " KeywordScore(word='본명', frequency=0, score=0.98596911773225),\n",
       " KeywordScore(word='엑스', frequency=0, score=0.9847950780631249)]"
      ]
     },
     "execution_count": 20,
     "metadata": {},
     "output_type": "execute_result"
    }
   ],
   "source": [
    "keywords = matrixbased_extractor.extract_from_word(5537, min_score=0.8, min_count=100)\n",
    "keywords[:10]"
   ]
  },
  {
   "cell_type": "code",
   "execution_count": 21,
   "metadata": {
    "collapsed": false
   },
   "outputs": [
    {
     "data": {
      "text/plain": [
       "[KeywordScore(word='아이오아이', frequency=0, score=1.0),\n",
       " KeywordScore(word='엠카운트다운', frequency=0, score=0.9978307775631691),\n",
       " KeywordScore(word='펜타곤', frequency=0, score=0.9934422266805437),\n",
       " KeywordScore(word='잠깐', frequency=0, score=0.9929667382454291),\n",
       " KeywordScore(word='엠넷', frequency=0, score=0.9907514986652862),\n",
       " KeywordScore(word='걸크러쉬', frequency=0, score=0.99017203825805),\n",
       " KeywordScore(word='타이틀곡', frequency=0, score=0.9869906112674688),\n",
       " KeywordScore(word='코드', frequency=0, score=0.9867835556082788),\n",
       " KeywordScore(word='본명', frequency=0, score=0.98596911773225),\n",
       " KeywordScore(word='엑스', frequency=0, score=0.9847950780631249)]"
      ]
     },
     "execution_count": 21,
     "metadata": {},
     "output_type": "execute_result"
    }
   ],
   "source": [
    "keywords = matrixbased_extractor.extract_from_word('아이오아이', min_score=0.8, min_count=100)\n",
    "keywords[:10]"
   ]
  },
  {
   "cell_type": "code",
   "execution_count": null,
   "metadata": {
    "collapsed": true
   },
   "outputs": [],
   "source": []
  }
 ],
 "metadata": {
  "kernelspec": {
   "display_name": "Python 3",
   "language": "python",
   "name": "python3"
  },
  "language_info": {
   "codemirror_mode": {
    "name": "ipython",
    "version": 3
   },
   "file_extension": ".py",
   "mimetype": "text/x-python",
   "name": "python",
   "nbconvert_exporter": "python",
   "pygments_lexer": "ipython3",
   "version": "3.5.2"
  }
 },
 "nbformat": 4,
 "nbformat_minor": 0
}
